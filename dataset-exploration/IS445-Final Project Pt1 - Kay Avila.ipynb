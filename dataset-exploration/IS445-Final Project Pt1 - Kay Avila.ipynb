{
 "cells": [
  {
   "cell_type": "markdown",
   "id": "f21e930a",
   "metadata": {},
   "source": [
    "### IS445 Final Project, Part 1\n",
    "Kay Avila"
   ]
  },
  {
   "cell_type": "code",
   "execution_count": 28,
   "id": "2ed0628a",
   "metadata": {},
   "outputs": [],
   "source": [
    "import pandas as pd\n",
    "import matplotlib.pyplot as plt"
   ]
  },
  {
   "cell_type": "markdown",
   "id": "42adf5ec",
   "metadata": {},
   "source": [
    "#### Dataset Background\n",
    "\n",
    "This dataset is a colloboration between myself and Dr. Melody Green from the [Urbana Theological Seminary](http://www.urbanatheologicalseminary.org).\n",
    "\n",
    "Dr. Green is currently researching children's bible storybooks and has collected over 300 of them.  She was kind enough to type up roughly 250 of the ISBNs for me.  I created a python script for querying the [OpenLibrary](https://openlibrary.org/developers/api) and [ISBN DB](https://isbndb.com/isbn-database) APIs to resolve information about the books based on the ISBN.  (I called this the \"isbn-indexer\" and it is available on [GitHub](https://github.com/kayavila/isbn-indexer).)\n",
    "\n",
    "From there, I used OpenRefine to try to come to the \"best guess\" answer for the author, illustrator, publisher, location, and number of pages fields.  Unfortunately I did a lot of individual cell editing, which isn't reusable (and OpenRefine doesn't include it in the export).  However, transforms are, and these are [uploaded to GitHub](https://github.com/kayavila/IS445-Final-StorybookBibles/blob/main/dataset-creation/openrefine_transforms.json).\n",
    "\n",
    "Because my collaborator ultimately hopes to continue collaborating with me on this dataset, and to publish research based on it, she's asked me to keep the dataset private.  So, for now, it isn't publicly licensed."
   ]
  },
  {
   "cell_type": "markdown",
   "id": "b94fb7fc",
   "metadata": {},
   "source": [
    "#### Dataset Information\n",
    "\n",
    "The dataset is currently 205 rows long, though it may increase as Dr. Green provides more ISBNs to me in the future.  There are 26 columns.  On disk, it takes up 73 KB."
   ]
  },
  {
   "cell_type": "code",
   "execution_count": 2,
   "id": "3a286e55",
   "metadata": {},
   "outputs": [],
   "source": [
    "df = pd.read_csv('Storybook-Bibles.csv')  # Input file needs to be in the local directory  "
   ]
  },
  {
   "cell_type": "code",
   "execution_count": 3,
   "id": "48b78fe2",
   "metadata": {},
   "outputs": [
    {
     "data": {
      "text/plain": [
       "Index(['isbn', 'title', 'ol_title', 'idb_title', 'first_author', 'illustrator',\n",
       "       'other_authors', 'other_illustrators', 'ol_author', 'idb_author',\n",
       "       'ol_contributor', 'ol_by', 'publisher', 'ol_publisher_clustered',\n",
       "       'idb_publisher_clustered', 'ol_publisher', 'idb_publisher', 'location',\n",
       "       'ol_location', 'year', 'ol_year', 'idb_year', 'pages', 'ol_pages',\n",
       "       'idb_pages', 'idb_msrp'],\n",
       "      dtype='object')"
      ]
     },
     "execution_count": 3,
     "metadata": {},
     "output_type": "execute_result"
    }
   ],
   "source": [
    "df.columns"
   ]
  },
  {
   "cell_type": "code",
   "execution_count": 4,
   "id": "79c332d3",
   "metadata": {},
   "outputs": [
    {
     "data": {
      "text/plain": [
       "isbn                        object\n",
       "title                       object\n",
       "ol_title                    object\n",
       "idb_title                   object\n",
       "first_author                object\n",
       "illustrator                 object\n",
       "other_authors               object\n",
       "other_illustrators          object\n",
       "ol_author                   object\n",
       "idb_author                  object\n",
       "ol_contributor              object\n",
       "ol_by                       object\n",
       "publisher                   object\n",
       "ol_publisher_clustered      object\n",
       "idb_publisher_clustered     object\n",
       "ol_publisher                object\n",
       "idb_publisher               object\n",
       "location                    object\n",
       "ol_location                 object\n",
       "year                       float64\n",
       "ol_year                    float64\n",
       "idb_year                   float64\n",
       "pages                      float64\n",
       "ol_pages                   float64\n",
       "idb_pages                  float64\n",
       "idb_msrp                   float64\n",
       "dtype: object"
      ]
     },
     "execution_count": 4,
     "metadata": {},
     "output_type": "execute_result"
    }
   ],
   "source": [
    "df.dtypes"
   ]
  },
  {
   "cell_type": "markdown",
   "id": "9bf699ac",
   "metadata": {},
   "source": [
    "Rows that start with the prefix \"ol_\" come from OpenLibrary API data.  Rows that start with \"idb_\" come from ISBN DB.  These have not been altered from what the isbn-indexer script produced, with the except of the \"ol_publisher_clustered\" and \"idb_publisher_clustered\" columns, which underwent OpenRefine clustering.  I worked with these to create the following columns, based on comparing data from the two ISBN resolver services, and sometimes double-checking against Amazon:\n",
    "\n",
    "* title\n",
    "* first_author\n",
    "* illustrator\n",
    "* other_authors\n",
    "* other_illustrators\n",
    "* publisher\n",
    "* location\n",
    "* year\n",
    "* pages\n",
    "\n",
    "These, plus idb_msrp, are the ones that I will be using for the final project.  I didn't create a separate msrp column, because OpenLibrary doesn't include that data, so I had nothing to compare the ISBN DB's results to."
   ]
  },
  {
   "cell_type": "markdown",
   "id": "416bf078",
   "metadata": {},
   "source": [
    "#### Dataset Exploration - Part 1\n",
    "\n",
    "I'm pretty intimately familiar with the dataset, having created it, so I can point out some of its interesting characteristics but there's less discovery to be done than if I were unfamiliar with it.\n",
    "\n",
    "Some data visualization could be done on comparing OpenLibrary versus ISBN DB results, but since Dr. Green is interested in exploring the correct data (which she'll undoubtedly probably double-check all of at some point) rather than the different ISBN databases, I'll go ahead and drop those by re-reading in the data and only keeping relevant columns."
   ]
  },
  {
   "cell_type": "code",
   "execution_count": 5,
   "id": "82f19eef",
   "metadata": {},
   "outputs": [],
   "source": [
    "df = pd.read_csv('Storybook-Bibles.csv',  # Input file needs to be in the local directory  \n",
    "                 usecols=['isbn', 'title', 'first_author', 'illustrator', 'other_authors', 'other_illustrators',\n",
    "                          'publisher', 'location', 'year', 'pages', 'idb_msrp']\n",
    "                )\n",
    "\n",
    "df.rename(columns={'idb_msrp': 'msrp'}, inplace=True)"
   ]
  },
  {
   "cell_type": "code",
   "execution_count": 6,
   "id": "945a33c0",
   "metadata": {},
   "outputs": [
    {
     "name": "stdout",
     "output_type": "stream",
     "text": [
      "Column \"isbn\":\n",
      "False    204\n",
      "Name: isbn, dtype: int64 \n",
      "\n",
      "Column \"title\":\n",
      "False    204\n",
      "Name: title, dtype: int64 \n",
      "\n",
      "Column \"first_author\":\n",
      "False    193\n",
      "True      11\n",
      "Name: first_author, dtype: int64 \n",
      "\n",
      "Column \"illustrator\":\n",
      "False    107\n",
      "True      97\n",
      "Name: illustrator, dtype: int64 \n",
      "\n",
      "Column \"other_authors\":\n",
      "True     178\n",
      "False     26\n",
      "Name: other_authors, dtype: int64 \n",
      "\n",
      "Column \"other_illustrators\":\n",
      "True     192\n",
      "False     12\n",
      "Name: other_illustrators, dtype: int64 \n",
      "\n",
      "Column \"publisher\":\n",
      "False    203\n",
      "True       1\n",
      "Name: publisher, dtype: int64 \n",
      "\n",
      "Column \"location\":\n",
      "True     103\n",
      "False    101\n",
      "Name: location, dtype: int64 \n",
      "\n",
      "Column \"year\":\n",
      "False    202\n",
      "True       2\n",
      "Name: year, dtype: int64 \n",
      "\n",
      "Column \"pages\":\n",
      "True     152\n",
      "False     52\n",
      "Name: pages, dtype: int64 \n",
      "\n",
      "Column \"msrp\":\n",
      "False    200\n",
      "True       4\n",
      "Name: msrp, dtype: int64 \n",
      "\n"
     ]
    }
   ],
   "source": [
    "# Some of the columns have null values\n",
    "for col in df.columns:\n",
    "    print('Column \"{}\":'.format(col))\n",
    "    print(df[col].isna().value_counts(), '\\n')"
   ]
  },
  {
   "cell_type": "code",
   "execution_count": 7,
   "id": "bd8d491d",
   "metadata": {},
   "outputs": [],
   "source": [
    "# Note location is especially poorly filled out, with roughly half of the values missing"
   ]
  },
  {
   "cell_type": "code",
   "execution_count": 8,
   "id": "91ba99c8",
   "metadata": {},
   "outputs": [
    {
     "data": {
      "text/plain": [
       "False    146\n",
       "True      58\n",
       "Name: msrp, dtype: int64"
      ]
     },
     "execution_count": 8,
     "metadata": {},
     "output_type": "execute_result"
    }
   ],
   "source": [
    "# MSRP doesn't have many nulls, but some of the columsn are equal to zero, so it's more than it initially seems\n",
    "zero_msrps = df['msrp'] <= 0\n",
    "zero_msrps.value_counts()"
   ]
  },
  {
   "cell_type": "code",
   "execution_count": 9,
   "id": "d803ddb4",
   "metadata": {},
   "outputs": [
    {
     "data": {
      "text/plain": [
       "False    204\n",
       "Name: msrp, dtype: int64"
      ]
     },
     "execution_count": 9,
     "metadata": {},
     "output_type": "execute_result"
    }
   ],
   "source": [
    "# Set these to NA\n",
    "df.loc[df['msrp'] <= 0, 'msrp'] = None\n",
    "zero_msrps = df['msrp'] <= 0\n",
    "zero_msrps.value_counts()"
   ]
  },
  {
   "cell_type": "markdown",
   "id": "46023060",
   "metadata": {},
   "source": [
    "#### Dataset Exploration - Part 2"
   ]
  },
  {
   "cell_type": "code",
   "execution_count": 10,
   "id": "7837f33f",
   "metadata": {},
   "outputs": [
    {
     "data": {
      "text/plain": [
       "<AxesSubplot:ylabel='Frequency'>"
      ]
     },
     "execution_count": 10,
     "metadata": {},
     "output_type": "execute_result"
    },
    {
     "data": {
      "image/png": "[encoded data removed]",
      "text/plain": [
       "<Figure size 432x288 with 1 Axes>"
      ]
     },
     "metadata": {
      "needs_background": "light"
     },
     "output_type": "display_data"
    }
   ],
   "source": [
    "# Plotting the whole dataframe is not very useful\n",
    "df.plot.hist()"
   ]
  },
  {
   "cell_type": "code",
   "execution_count": 11,
   "id": "2ae3791c",
   "metadata": {},
   "outputs": [
    {
     "data": {
      "text/plain": [
       "<AxesSubplot:ylabel='Frequency'>"
      ]
     },
     "execution_count": 11,
     "metadata": {},
     "output_type": "execute_result"
    },
    {
     "data": {
      "image/png": "[encoded data removed]",
      "text/plain": [
       "<Figure size 432x288 with 1 Axes>"
      ]
     },
     "metadata": {
      "needs_background": "light"
     },
     "output_type": "display_data"
    }
   ],
   "source": [
    "df['year'].plot.hist()"
   ]
  },
  {
   "cell_type": "code",
   "execution_count": 12,
   "id": "1705f217",
   "metadata": {},
   "outputs": [
    {
     "data": {
      "text/plain": [
       "<AxesSubplot:ylabel='Frequency'>"
      ]
     },
     "execution_count": 12,
     "metadata": {},
     "output_type": "execute_result"
    },
    {
     "data": {
      "image/png": "[encoded data removed]",
      "text/plain": [
       "<Figure size 432x288 with 1 Axes>"
      ]
     },
     "metadata": {
      "needs_background": "light"
     },
     "output_type": "display_data"
    }
   ],
   "source": [
    "df['pages'].plot.hist()"
   ]
  },
  {
   "cell_type": "code",
   "execution_count": 13,
   "id": "8f46eeb4",
   "metadata": {},
   "outputs": [
    {
     "data": {
      "text/plain": [
       "<AxesSubplot:ylabel='Frequency'>"
      ]
     },
     "execution_count": 13,
     "metadata": {},
     "output_type": "execute_result"
    },
    {
     "data": {
      "image/png": "[encoded data removed]",
      "text/plain": [
       "<Figure size 432x288 with 1 Axes>"
      ]
     },
     "metadata": {
      "needs_background": "light"
     },
     "output_type": "display_data"
    }
   ],
   "source": [
    "df['msrp'].plot.hist()"
   ]
  },
  {
   "cell_type": "code",
   "execution_count": 14,
   "id": "765bd8ec",
   "metadata": {},
   "outputs": [
    {
     "data": {
      "text/plain": [
       "<AxesSubplot:>"
      ]
     },
     "execution_count": 14,
     "metadata": {},
     "output_type": "execute_result"
    },
    {
     "data": {
      "image/png": "[encoded data removed]",
      "text/plain": [
       "<Figure size 432x288 with 1 Axes>"
      ]
     },
     "metadata": {
      "needs_background": "light"
     },
     "output_type": "display_data"
    }
   ],
   "source": [
    "# Not very useful - is it using index for x?\n",
    "df['msrp'].plot.bar()"
   ]
  },
  {
   "cell_type": "code",
   "execution_count": 15,
   "id": "34d1b8e7",
   "metadata": {},
   "outputs": [
    {
     "data": {
      "text/plain": [
       "<AxesSubplot:>"
      ]
     },
     "execution_count": 15,
     "metadata": {},
     "output_type": "execute_result"
    },
    {
     "data": {
      "image/png": "[encoded data removed]",
      "text/plain": [
       "<Figure size 432x288 with 1 Axes>"
      ]
     },
     "metadata": {
      "needs_background": "light"
     },
     "output_type": "display_data"
    }
   ],
   "source": [
    "# Not very useful - is it using index for x?\n",
    "df['year'].plot.bar()"
   ]
  },
  {
   "cell_type": "code",
   "execution_count": 16,
   "id": "f890463f",
   "metadata": {},
   "outputs": [
    {
     "data": {
      "text/plain": [
       "<AxesSubplot:>"
      ]
     },
     "execution_count": 16,
     "metadata": {},
     "output_type": "execute_result"
    },
    {
     "data": {
      "image/png": "[encoded data removed]",
      "text/plain": [
       "<Figure size 432x288 with 1 Axes>"
      ]
     },
     "metadata": {
      "needs_background": "light"
     },
     "output_type": "display_data"
    }
   ],
   "source": [
    "# Yes, it's using index for x\n",
    "df['year'].head().plot.bar()"
   ]
  },
  {
   "cell_type": "code",
   "execution_count": 17,
   "id": "c890af7d",
   "metadata": {},
   "outputs": [
    {
     "data": {
      "text/plain": [
       "<AxesSubplot:xlabel='year', ylabel='pages'>"
      ]
     },
     "execution_count": 17,
     "metadata": {},
     "output_type": "execute_result"
    },
    {
     "data": {
      "image/png": "[encoded data removed]",
      "text/plain": [
       "<Figure size 432x288 with 1 Axes>"
      ]
     },
     "metadata": {
      "needs_background": "light"
     },
     "output_type": "display_data"
    }
   ],
   "source": [
    "df.plot.scatter(x='year', y='pages')"
   ]
  },
  {
   "cell_type": "code",
   "execution_count": 18,
   "id": "bf15f8cb",
   "metadata": {},
   "outputs": [
    {
     "data": {
      "text/plain": [
       "<AxesSubplot:xlabel='year', ylabel='msrp'>"
      ]
     },
     "execution_count": 18,
     "metadata": {},
     "output_type": "execute_result"
    },
    {
     "data": {
      "image/png": "[encoded data removed]",
      "text/plain": [
       "<Figure size 432x288 with 1 Axes>"
      ]
     },
     "metadata": {
      "needs_background": "light"
     },
     "output_type": "display_data"
    }
   ],
   "source": [
    "df.plot.scatter(x='year', y='msrp')"
   ]
  },
  {
   "cell_type": "code",
   "execution_count": 19,
   "id": "b11148ed",
   "metadata": {},
   "outputs": [
    {
     "data": {
      "text/plain": [
       "<AxesSubplot:xlabel='year', ylabel='msrp'>"
      ]
     },
     "execution_count": 19,
     "metadata": {},
     "output_type": "execute_result"
    },
    {
     "data": {
      "image/png": "[encoded data removed]",
      "text/plain": [
       "<Figure size 432x288 with 1 Axes>"
      ]
     },
     "metadata": {
      "needs_background": "light"
     },
     "output_type": "display_data"
    }
   ],
   "source": [
    "# Too close together for log-scale with msrp to be useful\n",
    "df.plot.scatter(x='year', y='msrp', logy=True)"
   ]
  },
  {
   "cell_type": "markdown",
   "id": "ad8096f0",
   "metadata": {},
   "source": [
    "### Dataset Exploration - Pt 3"
   ]
  },
  {
   "cell_type": "code",
   "execution_count": 20,
   "id": "88807a1b",
   "metadata": {},
   "outputs": [
    {
     "name": "stdout",
     "output_type": "stream",
     "text": [
      "2014.0    11\n",
      "2015.0     9\n",
      "2006.0     9\n",
      "1998.0     9\n",
      "2002.0     8\n",
      "1999.0     8\n",
      "2007.0     8\n",
      "2004.0     8\n",
      "1995.0     7\n",
      "1993.0     7\n",
      "Name: year, dtype: int64\n"
     ]
    }
   ],
   "source": [
    "# Plot number of books by year\n",
    "print(df['year'].value_counts().head(10))"
   ]
  },
  {
   "cell_type": "code",
   "execution_count": 21,
   "id": "8327009b",
   "metadata": {},
   "outputs": [
    {
     "data": {
      "text/plain": [
       "<AxesSubplot:>"
      ]
     },
     "execution_count": 21,
     "metadata": {},
     "output_type": "execute_result"
    },
    {
     "data": {
      "image/png": "[encoded data removed]",
      "text/plain": [
       "<Figure size 864x360 with 1 Axes>"
      ]
     },
     "metadata": {
      "needs_background": "light"
     },
     "output_type": "display_data"
    }
   ],
   "source": [
    "# This is interesting, but doesn't capture the gaps in time\n",
    "df['year'].value_counts().sort_index().plot(kind='bar', figsize=(12,5))"
   ]
  },
  {
   "cell_type": "code",
   "execution_count": 22,
   "id": "36937905",
   "metadata": {},
   "outputs": [
    {
     "data": {
      "text/plain": [
       "isbn                   object\n",
       "title                  object\n",
       "first_author           object\n",
       "illustrator            object\n",
       "other_authors          object\n",
       "other_illustrators     object\n",
       "publisher              object\n",
       "location               object\n",
       "year                  float64\n",
       "pages                 float64\n",
       "msrp                  float64\n",
       "dtype: object"
      ]
     },
     "execution_count": 22,
     "metadata": {},
     "output_type": "execute_result"
    }
   ],
   "source": [
    "df.dtypes"
   ]
  },
  {
   "cell_type": "code",
   "execution_count": 23,
   "id": "1fba03b5",
   "metadata": {},
   "outputs": [],
   "source": [
    "# Pandas can't store the one entry that's 1665, but that seems like a typo anyway\n",
    "# I also have a value > 2020, so fix these\n",
    "df['year'] = pd.to_datetime(df['year'], format='%Y', errors='coerce')"
   ]
  },
  {
   "cell_type": "code",
   "execution_count": 24,
   "id": "4096eac2",
   "metadata": {},
   "outputs": [
    {
     "data": {
      "text/plain": [
       "0     2015-01-01\n",
       "1     2014-01-01\n",
       "2     1998-01-01\n",
       "3     1998-01-01\n",
       "4     2011-01-01\n",
       "         ...    \n",
       "199   2010-01-01\n",
       "200   2011-01-01\n",
       "201   2008-01-01\n",
       "202   2016-01-01\n",
       "203   2020-01-01\n",
       "Name: year, Length: 204, dtype: datetime64[ns]"
      ]
     },
     "execution_count": 24,
     "metadata": {},
     "output_type": "execute_result"
    }
   ],
   "source": [
    "df['year']"
   ]
  },
  {
   "cell_type": "code",
   "execution_count": 25,
   "id": "309e412d",
   "metadata": {},
   "outputs": [
    {
     "data": {
      "text/plain": [
       "<AxesSubplot:>"
      ]
     },
     "execution_count": 25,
     "metadata": {},
     "output_type": "execute_result"
    },
    {
     "data": {
      "image/png": "[encoded data removed]",
      "text/plain": [
       "<Figure size 864x360 with 1 Axes>"
      ]
     },
     "metadata": {
      "needs_background": "light"
     },
     "output_type": "display_data"
    }
   ],
   "source": [
    "df['year'].value_counts().sort_index().plot(kind='bar', figsize=(12,5))"
   ]
  },
  {
   "cell_type": "code",
   "execution_count": 26,
   "id": "c1ce5e0e",
   "metadata": {},
   "outputs": [
    {
     "data": {
      "text/plain": [
       "<AxesSubplot:>"
      ]
     },
     "execution_count": 26,
     "metadata": {},
     "output_type": "execute_result"
    },
    {
     "data": {
      "image/png": "[encoded data removed]",
      "text/plain": [
       "<Figure size 864x360 with 1 Axes>"
      ]
     },
     "metadata": {
      "needs_background": "light"
     },
     "output_type": "display_data"
    }
   ],
   "source": [
    "df['year'].value_counts().sort_index().plot(kind='line', figsize=(12,5))"
   ]
  },
  {
   "cell_type": "code",
   "execution_count": 35,
   "id": "6b754160",
   "metadata": {},
   "outputs": [
    {
     "data": {
      "text/plain": [
       "DatetimeIndex(['1955-01-01', '1971-01-01', '1973-01-01', '1974-01-01',\n",
       "               '1975-01-01', '1978-01-01', '1979-01-01', '1980-01-01',\n",
       "               '1981-01-01', '1982-01-01', '1983-01-01', '1984-01-01',\n",
       "               '1985-01-01', '1987-01-01', '1988-01-01', '1990-01-01',\n",
       "               '1991-01-01', '1992-01-01', '1993-01-01', '1994-01-01',\n",
       "               '1995-01-01', '1996-01-01', '1997-01-01', '1998-01-01',\n",
       "               '1999-01-01', '2000-01-01', '2001-01-01', '2002-01-01',\n",
       "               '2003-01-01', '2004-01-01', '2005-01-01', '2006-01-01',\n",
       "               '2007-01-01', '2008-01-01', '2009-01-01', '2010-01-01',\n",
       "               '2011-01-01', '2012-01-01', '2013-01-01', '2014-01-01',\n",
       "               '2015-01-01', '2016-01-01', '2017-01-01', '2018-01-01',\n",
       "               '2020-01-01', '2021-01-01', '2050-01-01'],\n",
       "              dtype='datetime64[ns]', freq=None)"
      ]
     },
     "execution_count": 35,
     "metadata": {},
     "output_type": "execute_result"
    }
   ],
   "source": [
    "books_by_year = df['year'].value_counts().sort_index()\n",
    "books_by_year.index"
   ]
  },
  {
   "cell_type": "code",
   "execution_count": 43,
   "id": "40dbcab9",
   "metadata": {},
   "outputs": [
    {
     "data": {
      "image/png": "[encoded data removed]",
      "text/plain": [
       "<Figure size 432x288 with 1 Axes>"
      ]
     },
     "metadata": {
      "needs_background": "light"
     },
     "output_type": "display_data"
    }
   ],
   "source": [
    "#plt.scatter(books_by_year.index, books_by_year.values)\n",
    "plt.plot(books_by_year.index, books_by_year.values)\n",
    "plt.show()"
   ]
  },
  {
   "cell_type": "code",
   "execution_count": 38,
   "id": "7c39872a",
   "metadata": {},
   "outputs": [
    {
     "data": {
      "text/plain": [
       "array([ 1,  2,  2,  1,  1,  1,  4,  5,  2,  1,  5,  1,  2,  4,  1,  4,  6,\n",
       "        3,  7,  4,  7,  3,  5,  9,  8,  4,  1,  8,  4,  8,  6,  9,  8,  6,\n",
       "        5,  5,  5,  5,  4, 11,  9,  5,  3,  3,  1,  1,  1], dtype=int64)"
      ]
     },
     "execution_count": 38,
     "metadata": {},
     "output_type": "execute_result"
    }
   ],
   "source": [
    "books_by_year.values"
   ]
  },
  {
   "cell_type": "code",
   "execution_count": null,
   "id": "adb748fa",
   "metadata": {},
   "outputs": [],
   "source": []
  },
  {
   "cell_type": "code",
   "execution_count": null,
   "id": "1cf79954",
   "metadata": {},
   "outputs": [],
   "source": []
  }
 ],
 "metadata": {
  "kernelspec": {
   "display_name": "Python 3 (ipykernel)",
   "language": "python",
   "name": "python3"
  },
  "language_info": {
   "codemirror_mode": {
    "name": "ipython",
    "version": 3
   },
   "file_extension": ".py",
   "mimetype": "text/x-python",
   "name": "python",
   "nbconvert_exporter": "python",
   "pygments_lexer": "ipython3",
   "version": "3.9.7"
  }
 },
 "nbformat": 4,
 "nbformat_minor": 5
}
