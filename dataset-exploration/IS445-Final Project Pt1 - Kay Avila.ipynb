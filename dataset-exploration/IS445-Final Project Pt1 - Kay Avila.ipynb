{
 "cells": [
  {
   "cell_type": "markdown",
   "id": "f21e930a",
   "metadata": {},
   "source": [
    "### IS445 Final Project, Part 1\n",
    "Kay Avila"
   ]
  },
  {
   "cell_type": "code",
   "execution_count": 1,
   "id": "2ed0628a",
   "metadata": {},
   "outputs": [],
   "source": [
    "import pandas as pd"
   ]
  },
  {
   "cell_type": "markdown",
   "id": "42adf5ec",
   "metadata": {},
   "source": [
    "#### Dataset Background\n",
    "\n",
    "This dataset is a colloboration between myself and Dr. Melody Green from the [Urbana Theological Seminary](http://www.urbanatheologicalseminary.org).\n",
    "\n",
    "Dr. Green is currently researching children's bible storybooks and has collected over 300 of them.  She was kind enough to type up roughly 250 of the ISBNs for me.  I created a python script for querying the [OpenLibrary](https://openlibrary.org/developers/api) and [ISBN DB](https://isbndb.com/isbn-database) APIs to resolve information about the books based on the ISBN.  (I called this the \"isbn-indexer\" and it is available on [GitHub](https://github.com/kayavila/isbn-indexer).)\n",
    "\n",
    "From there, I used OpenRefine to try to come to the \"best guess\" answer for the author, illustrator, publisher, location, and number of pages fields.  Unfortunately I did a lot of individual cell editing, which isn't reusable (and OpenRefine doesn't include it in the export).  However, transforms are, and these are [uploaded to GitHub](https://github.com/kayavila/IS445-Final-StorybookBibles/blob/main/dataset-creation/openrefine_transforms.json).\n",
    "\n",
    "Because my collaborator ultimately hopes to continue collaborating with me on this dataset, and to publish research based on it, she's asked me to keep the dataset private.  So, for now, it isn't publicly licensed."
   ]
  },
  {
   "cell_type": "markdown",
   "id": "b94fb7fc",
   "metadata": {},
   "source": [
    "#### Dataset Information\n",
    "\n",
    "The dataset is currently 205 rows long, though it may increase as Dr. Green provides more ISBNs to me in the future.  There are 26 columns.  On disk, it takes up 73 KB."
   ]
  },
  {
   "cell_type": "code",
   "execution_count": 72,
   "id": "3a286e55",
   "metadata": {},
   "outputs": [],
   "source": [
    "df = pd.read_csv('Storybook-Bibles.csv')  # Input file needs to be in the local directory  "
   ]
  },
  {
   "cell_type": "code",
   "execution_count": 73,
   "id": "48b78fe2",
   "metadata": {},
   "outputs": [
    {
     "data": {
      "text/plain": [
       "Index(['isbn', 'title', 'ol_title', 'idb_title', 'first_author', 'illustrator',\n",
       "       'other_authors', 'other_illustrators', 'ol_author', 'idb_author',\n",
       "       'ol_contributor', 'ol_by', 'publisher', 'ol_publisher_clustered',\n",
       "       'idb_publisher_clustered', 'ol_publisher', 'idb_publisher', 'location',\n",
       "       'ol_location', 'year', 'ol_year', 'idb_year', 'pages', 'ol_pages',\n",
       "       'idb_pages', 'idb_msrp'],\n",
       "      dtype='object')"
      ]
     },
     "execution_count": 73,
     "metadata": {},
     "output_type": "execute_result"
    }
   ],
   "source": [
    "df.columns"
   ]
  },
  {
   "cell_type": "code",
   "execution_count": 74,
   "id": "79c332d3",
   "metadata": {},
   "outputs": [
    {
     "data": {
      "text/plain": [
       "isbn                        object\n",
       "title                       object\n",
       "ol_title                    object\n",
       "idb_title                   object\n",
       "first_author                object\n",
       "illustrator                 object\n",
       "other_authors               object\n",
       "other_illustrators          object\n",
       "ol_author                   object\n",
       "idb_author                  object\n",
       "ol_contributor              object\n",
       "ol_by                       object\n",
       "publisher                   object\n",
       "ol_publisher_clustered      object\n",
       "idb_publisher_clustered     object\n",
       "ol_publisher                object\n",
       "idb_publisher               object\n",
       "location                    object\n",
       "ol_location                 object\n",
       "year                       float64\n",
       "ol_year                    float64\n",
       "idb_year                   float64\n",
       "pages                      float64\n",
       "ol_pages                   float64\n",
       "idb_pages                  float64\n",
       "idb_msrp                   float64\n",
       "dtype: object"
      ]
     },
     "execution_count": 74,
     "metadata": {},
     "output_type": "execute_result"
    }
   ],
   "source": [
    "df.dtypes"
   ]
  },
  {
   "cell_type": "markdown",
   "id": "9bf699ac",
   "metadata": {},
   "source": [
    "Rows that start with the prefix \"ol_\" come from OpenLibrary API data.  Rows that start with \"idb_\" come from ISBN DB.  These have not been altered from what the isbn-indexer script produced, with the except of the \"ol_publisher_clustered\" and \"idb_publisher_clustered\" columns, which underwent OpenRefine clustering.  I worked with these to create the following columns, based on comparing data from the two ISBN resolver services, and sometimes double-checking against Amazon:\n",
    "\n",
    "* title\n",
    "* first_author\n",
    "* illustrator\n",
    "* other_authors\n",
    "* other_illustrators\n",
    "* publisher\n",
    "* location\n",
    "* year\n",
    "* pages\n",
    "\n",
    "These, plus idb_msrp, are the ones that I will be using for the final project.  I didn't create a separate msrp column, because OpenLibrary doesn't include that data, so I had nothing to compare the ISBN DB's results to."
   ]
  },
  {
   "cell_type": "markdown",
   "id": "416bf078",
   "metadata": {},
   "source": [
    "#### Dataset Exploration - Part 1\n",
    "\n",
    "I'm pretty intimately familiar with the dataset, having created it, so I can point out some of its interesting characteristics but there's less discovery to be done than if I were unfamiliar with it.\n",
    "\n",
    "Some data visualization could be done on comparing OpenLibrary versus ISBN DB results, but since Dr. Green is interested in exploring the correct data (which she'll undoubtedly probably double-check all of at some point) rather than the different ISBN databases, I'll go ahead and drop those by re-reading in the data and only keeping relevant columns."
   ]
  },
  {
   "cell_type": "code",
   "execution_count": 75,
   "id": "82f19eef",
   "metadata": {},
   "outputs": [],
   "source": [
    "df = pd.read_csv('Storybook-Bibles.csv',  # Input file needs to be in the local directory  \n",
    "                 usecols=['isbn', 'title', 'first_author', 'illustrator', 'other_authors', 'other_illustrators',\n",
    "                          'publisher', 'location', 'year', 'pages', 'idb_msrp']\n",
    "                )\n",
    "\n",
    "df.rename(columns={'idb_msrp': 'msrp'}, inplace=True)"
   ]
  },
  {
   "cell_type": "code",
   "execution_count": 76,
   "id": "945a33c0",
   "metadata": {},
   "outputs": [
    {
     "name": "stdout",
     "output_type": "stream",
     "text": [
      "Column \"isbn\":\n",
      "False    204\n",
      "Name: isbn, dtype: int64 \n",
      "\n",
      "Column \"title\":\n",
      "False    204\n",
      "Name: title, dtype: int64 \n",
      "\n",
      "Column \"first_author\":\n",
      "False    193\n",
      "True      11\n",
      "Name: first_author, dtype: int64 \n",
      "\n",
      "Column \"illustrator\":\n",
      "False    107\n",
      "True      97\n",
      "Name: illustrator, dtype: int64 \n",
      "\n",
      "Column \"other_authors\":\n",
      "True     178\n",
      "False     26\n",
      "Name: other_authors, dtype: int64 \n",
      "\n",
      "Column \"other_illustrators\":\n",
      "True     192\n",
      "False     12\n",
      "Name: other_illustrators, dtype: int64 \n",
      "\n",
      "Column \"publisher\":\n",
      "False    203\n",
      "True       1\n",
      "Name: publisher, dtype: int64 \n",
      "\n",
      "Column \"location\":\n",
      "True     103\n",
      "False    101\n",
      "Name: location, dtype: int64 \n",
      "\n",
      "Column \"year\":\n",
      "False    202\n",
      "True       2\n",
      "Name: year, dtype: int64 \n",
      "\n",
      "Column \"pages\":\n",
      "True     152\n",
      "False     52\n",
      "Name: pages, dtype: int64 \n",
      "\n",
      "Column \"msrp\":\n",
      "False    200\n",
      "True       4\n",
      "Name: msrp, dtype: int64 \n",
      "\n"
     ]
    }
   ],
   "source": [
    "# Some of the columns have null values\n",
    "for col in df.columns:\n",
    "    print('Column \"{}\":'.format(col))\n",
    "    print(df[col].isna().value_counts(), '\\n')"
   ]
  },
  {
   "cell_type": "code",
   "execution_count": 77,
   "id": "bd8d491d",
   "metadata": {},
   "outputs": [],
   "source": [
    "# Note location is especially poorly filled out, with roughly half of the values missing"
   ]
  },
  {
   "cell_type": "code",
   "execution_count": 78,
   "id": "91ba99c8",
   "metadata": {},
   "outputs": [
    {
     "data": {
      "text/plain": [
       "False    146\n",
       "True      58\n",
       "Name: msrp, dtype: int64"
      ]
     },
     "execution_count": 78,
     "metadata": {},
     "output_type": "execute_result"
    }
   ],
   "source": [
    "# MSRP doesn't have many nulls, but some of the columsn are equal to zero, so it's more than it initially seems\n",
    "zero_msrps = df['msrp'] <= 0\n",
    "zero_msrps.value_counts()"
   ]
  },
  {
   "cell_type": "code",
   "execution_count": 79,
   "id": "d803ddb4",
   "metadata": {},
   "outputs": [
    {
     "data": {
      "text/plain": [
       "False    204\n",
       "Name: msrp, dtype: int64"
      ]
     },
     "execution_count": 79,
     "metadata": {},
     "output_type": "execute_result"
    }
   ],
   "source": [
    "# Set these to NA\n",
    "df.loc[df['msrp'] <= 0, 'msrp'] = None\n",
    "zero_msrps = df['msrp'] <= 0\n",
    "zero_msrps.value_counts()"
   ]
  },
  {
   "cell_type": "markdown",
   "id": "46023060",
   "metadata": {},
   "source": [
    "#### Dataset Exploration - Part 2"
   ]
  },
  {
   "cell_type": "code",
   "execution_count": 80,
   "id": "7837f33f",
   "metadata": {},
   "outputs": [
    {
     "data": {
      "text/plain": [
       "<AxesSubplot:ylabel='Frequency'>"
      ]
     },
     "execution_count": 80,
     "metadata": {},
     "output_type": "execute_result"
    },
    {
     "data": {
      "image/png": "[encoded data removed]",
      "text/plain": [
       "<Figure size 432x288 with 1 Axes>"
      ]
     },
     "metadata": {
      "needs_background": "light"
     },
     "output_type": "display_data"
    }
   ],
   "source": [
    "# Plotting the whole dataframe is not very useful\n",
    "df.plot.hist()"
   ]
  },
  {
   "cell_type": "code",
   "execution_count": 81,
   "id": "2ae3791c",
   "metadata": {},
   "outputs": [
    {
     "data": {
      "text/plain": [
       "<AxesSubplot:ylabel='Frequency'>"
      ]
     },
     "execution_count": 81,
     "metadata": {},
     "output_type": "execute_result"
    },
    {
     "data": {
      "image/png": "[encoded data removed]",
      "text/plain": [
       "<Figure size 432x288 with 1 Axes>"
      ]
     },
     "metadata": {
      "needs_background": "light"
     },
     "output_type": "display_data"
    }
   ],
   "source": [
    "df['year'].plot.hist()"
   ]
  },
  {
   "cell_type": "code",
   "execution_count": 82,
   "id": "1705f217",
   "metadata": {},
   "outputs": [
    {
     "data": {
      "text/plain": [
       "<AxesSubplot:ylabel='Frequency'>"
      ]
     },
     "execution_count": 82,
     "metadata": {},
     "output_type": "execute_result"
    },
    {
     "data": {
      "image/png": "[encoded data removed]",
      "text/plain": [
       "<Figure size 432x288 with 1 Axes>"
      ]
     },
     "metadata": {
      "needs_background": "light"
     },
     "output_type": "display_data"
    }
   ],
   "source": [
    "df['pages'].plot.hist()"
   ]
  },
  {
   "cell_type": "code",
   "execution_count": 83,
   "id": "8f46eeb4",
   "metadata": {},
   "outputs": [
    {
     "data": {
      "text/plain": [
       "<AxesSubplot:ylabel='Frequency'>"
      ]
     },
     "execution_count": 83,
     "metadata": {},
     "output_type": "execute_result"
    },
    {
     "data": {
      "image/png": "[encoded data removed]",
      "text/plain": [
       "<Figure size 432x288 with 1 Axes>"
      ]
     },
     "metadata": {
      "needs_background": "light"
     },
     "output_type": "display_data"
    }
   ],
   "source": [
    "df['msrp'].plot.hist()"
   ]
  },
  {
   "cell_type": "code",
   "execution_count": 84,
   "id": "765bd8ec",
   "metadata": {},
   "outputs": [
    {
     "data": {
      "text/plain": [
       "<AxesSubplot:>"
      ]
     },
     "execution_count": 84,
     "metadata": {},
     "output_type": "execute_result"
    },
    {
     "data": {
      "image/png": "[encoded data removed]",
      "text/plain": [
       "<Figure size 432x288 with 1 Axes>"
      ]
     },
     "metadata": {
      "needs_background": "light"
     },
     "output_type": "display_data"
    }
   ],
   "source": [
    "# Not very useful - is it using index for x?\n",
    "df['msrp'].plot.bar()"
   ]
  },
  {
   "cell_type": "code",
   "execution_count": 85,
   "id": "34d1b8e7",
   "metadata": {},
   "outputs": [
    {
     "data": {
      "text/plain": [
       "<AxesSubplot:>"
      ]
     },
     "execution_count": 85,
     "metadata": {},
     "output_type": "execute_result"
    },
    {
     "data": {
      "image/png": "[encoded data removed]",
      "text/plain": [
       "<Figure size 432x288 with 1 Axes>"
      ]
     },
     "metadata": {
      "needs_background": "light"
     },
     "output_type": "display_data"
    }
   ],
   "source": [
    "# Not very useful - is it using index for x?\n",
    "df['year'].plot.bar()"
   ]
  },
  {
   "cell_type": "code",
   "execution_count": 86,
   "id": "f890463f",
   "metadata": {},
   "outputs": [
    {
     "data": {
      "text/plain": [
       "<AxesSubplot:>"
      ]
     },
     "execution_count": 86,
     "metadata": {},
     "output_type": "execute_result"
    },
    {
     "data": {
      "image/png": "[encoded data removed]",
      "text/plain": [
       "<Figure size 432x288 with 1 Axes>"
      ]
     },
     "metadata": {
      "needs_background": "light"
     },
     "output_type": "display_data"
    }
   ],
   "source": [
    "# Yes, it's using index for x\n",
    "df['year'].head().plot.bar()"
   ]
  },
  {
   "cell_type": "code",
   "execution_count": 87,
   "id": "c890af7d",
   "metadata": {},
   "outputs": [
    {
     "data": {
      "text/plain": [
       "<AxesSubplot:xlabel='year', ylabel='pages'>"
      ]
     },
     "execution_count": 87,
     "metadata": {},
     "output_type": "execute_result"
    },
    {
     "data": {
      "image/png": "[encoded data removed]",
      "text/plain": [
       "<Figure size 432x288 with 1 Axes>"
      ]
     },
     "metadata": {
      "needs_background": "light"
     },
     "output_type": "display_data"
    }
   ],
   "source": [
    "df.plot.scatter(x='year', y='pages')"
   ]
  },
  {
   "cell_type": "code",
   "execution_count": 88,
   "id": "bf15f8cb",
   "metadata": {},
   "outputs": [
    {
     "data": {
      "text/plain": [
       "<AxesSubplot:xlabel='year', ylabel='msrp'>"
      ]
     },
     "execution_count": 88,
     "metadata": {},
     "output_type": "execute_result"
    },
    {
     "data": {
      "image/png": "[encoded data removed]",
      "text/plain": [
       "<Figure size 432x288 with 1 Axes>"
      ]
     },
     "metadata": {
      "needs_background": "light"
     },
     "output_type": "display_data"
    }
   ],
   "source": [
    "df.plot.scatter(x='year', y='msrp')"
   ]
  },
  {
   "cell_type": "code",
   "execution_count": 89,
   "id": "b11148ed",
   "metadata": {},
   "outputs": [
    {
     "data": {
      "text/plain": [
       "<AxesSubplot:xlabel='year', ylabel='msrp'>"
      ]
     },
     "execution_count": 89,
     "metadata": {},
     "output_type": "execute_result"
    },
    {
     "data": {
      "image/png": "[encoded data removed]",
      "text/plain": [
       "<Figure size 432x288 with 1 Axes>"
      ]
     },
     "metadata": {
      "needs_background": "light"
     },
     "output_type": "display_data"
    }
   ],
   "source": [
    "# Too close together for log-scale with msrp to be useful\n",
    "df.plot.scatter(x='year', y='msrp', logy=True)"
   ]
  },
  {
   "cell_type": "code",
   "execution_count": null,
   "id": "c49a3e0e",
   "metadata": {},
   "outputs": [],
   "source": []
  }
 ],
 "metadata": {
  "kernelspec": {
   "display_name": "Python 3 (ipykernel)",
   "language": "python",
   "name": "python3"
  },
  "language_info": {
   "codemirror_mode": {
    "name": "ipython",
    "version": 3
   },
   "file_extension": ".py",
   "mimetype": "text/x-python",
   "name": "python",
   "nbconvert_exporter": "python",
   "pygments_lexer": "ipython3",
   "version": "3.9.7"
  }
 },
 "nbformat": 4,
 "nbformat_minor": 5
}
