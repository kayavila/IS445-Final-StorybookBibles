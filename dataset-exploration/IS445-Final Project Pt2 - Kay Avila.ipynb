{
 "cells": [
  {
   "cell_type": "markdown",
   "id": "fd340cf4",
   "metadata": {},
   "source": [
    "### IS445 Final Project, Part 2\n",
    "Kay Avila\n",
    "\n",
    "References:\n",
    "* https://coderzcolumn.com/tutorials/data-science/interactive-charts-using-matplotlib-and-ipywidgets\n",
    "* https://stackoverflow.com/questions/7908636/how-to-add-hovering-annotations-in-matplotlib\n",
    "* https://stackoverflow.com/questions/36104500/pandas-filtering-and-comparing-dates"
   ]
  },
  {
   "cell_type": "code",
   "execution_count": 1,
   "id": "0eff3084",
   "metadata": {},
   "outputs": [],
   "source": [
    "import numpy as np\n",
    "import pandas as pd\n",
    "import ipywidgets as widgets\n",
    "import matplotlib.pyplot as plt\n",
    "\n",
    "# Requires ipympl to be installed in the conda environment\n",
    "#%matplotlib widget   "
   ]
  },
  {
   "cell_type": "code",
   "execution_count": 2,
   "id": "7d79a03e",
   "metadata": {},
   "outputs": [],
   "source": [
    "df = pd.read_csv('Storybook-Bibles.csv',  # Input file needs to be in the local directory  \n",
    "                 usecols=['isbn', 'title', 'first_author', 'illustrator', 'other_authors', 'other_illustrators',\n",
    "                          'publisher', 'location', 'year', 'pages', 'idb_msrp']\n",
    "                )\n",
    "df.rename(columns={'idb_msrp': 'msrp'}, inplace=True)\n",
    "\n",
    "# Set $0.00 MSRP to NaN\n",
    "df.loc[df['msrp'] <= 0, 'msrp'] = None\n",
    "\n",
    "# Set dates below 1900 and above 2020 as invalid, then convert to a pandas time\n",
    "df[(df['year'] > 2020) | (df['year'] < 1900)] = None\n",
    "df['year'] = pd.to_datetime(df['year'], format='%Y')"
   ]
  },
  {
   "cell_type": "code",
   "execution_count": 3,
   "id": "390b90fc",
   "metadata": {},
   "outputs": [],
   "source": [
    "# Create the simple 2D scatter plots\n",
    "data_series = ['year', 'pages', 'msrp']\n",
    "\n",
    "x_dropdown = widgets.Dropdown(options=data_series, description='x values')\n",
    "y_dropdown = widgets.Dropdown(options=data_series, value='pages', description='y values')\n",
    "controls_label = widgets.Label(value='Controls')\n",
    "\n",
    "def create_scatter(x_dataset, y_dataset):\n",
    "    with plt.style.context('ggplot'):\n",
    "        fig = plt.figure(figsize=(9,6))\n",
    "\n",
    "        plt.xlabel(x_dataset.capitalize())\n",
    "        plt.ylabel(y_dataset.capitalize())\n",
    "\n",
    "        plt.scatter(x = df[x_dataset], y = df[y_dataset])\n",
    "        plt.title(\"{} vs {}\".format(x_dataset.capitalize(), y_dataset.capitalize()))\n",
    "    \n",
    "    \n",
    "scatter_plot = widgets.interactive_output(create_scatter, {'x_dataset': x_dropdown, 'y_dataset': y_dropdown})\n",
    "scatter_display = widgets.HBox([\n",
    "    scatter_plot,\n",
    "    widgets.VBox([controls_label, x_dropdown, y_dropdown],\n",
    "                layout=widgets.Layout(padding='30px'))\n",
    "])"
   ]
  },
  {
   "cell_type": "code",
   "execution_count": 4,
   "id": "dddd4dc5",
   "metadata": {},
   "outputs": [],
   "source": [
    "#test = df.groupby('year')['msrp']\n",
    "#median = test.median()\n",
    "#median.values"
   ]
  },
  {
   "cell_type": "code",
   "execution_count": 5,
   "id": "ba756fc9",
   "metadata": {},
   "outputs": [],
   "source": [
    "#widgets.IntRangeSlider(\n",
    "#    value=[5, 7],\n",
    "#    min=0,\n",
    "#    max=10,\n",
    "#    step=1,\n",
    "#    description='Test:',\n",
    "#    disabled=False,\n",
    "    #continuous_update=False,\n",
    "    #orientation='horizontal',\n",
    "    #readout=True,\n",
    "    #readout_format='d',\n",
    "#)"
   ]
  },
  {
   "cell_type": "code",
   "execution_count": 6,
   "id": "b572aef9",
   "metadata": {},
   "outputs": [],
   "source": [
    "#df['year'].max()\n",
    "#print(df['year'].sort_values().head())\n",
    "#(df['year'].sort_values() >= pd.Timestamp(1960, 1, 1)) & (df['year'].sort_values() <= pd.Timestamp(1972, 1, 1))"
   ]
  },
  {
   "cell_type": "code",
   "execution_count": 7,
   "id": "fbee3c9c",
   "metadata": {},
   "outputs": [],
   "source": [
    "# Create the graphs handled by value counts by year\n",
    "min_year = df['year'].min().year\n",
    "max_year = df['year'].max().year\n",
    "\n",
    "options = ['books, authors, publishers', 'average number of pages', 'average msrp']\n",
    "line_dropdown = widgets.Dropdown(options=options, description='subject:', value='books, authors, publishers')\n",
    "year_slider = widgets.IntRangeSlider(value=[min_year, max_year], min=min_year, max=max_year, step=1, continuous_update=False,\n",
    "                                     description='years:')\n",
    "lines_select = widgets.SelectMultiple(options=['number of books', 'different authors', 'different publishers'],\n",
    "                                      value=['number of books'],\n",
    "                                      description='plot values:')\n",
    "\n",
    "def create_line_by_year(plot_type, min_max_years=(min_year, max_year), multiplot_values=[]):\n",
    "    start_year, end_year = min_max_years[0], min_max_years[1]\n",
    "    df_slice = df[(df['year'] >= pd.Timestamp(start_year, 1, 1)) & (df['year'] <= pd.Timestamp(end_year, 1, 1))]\n",
    "    \n",
    "    # Only show the lines_select if type is 'counts by year'\n",
    "    if plot_type == 'books, authors, publishers':\n",
    "        lines_select.layout.display = 'block'\n",
    "    else:\n",
    "        lines_select.layout.display = 'none'\n",
    "    \n",
    "    with plt.style.context('ggplot'):\n",
    "        fig = plt.figure(figsize=(9,6))\n",
    "        plt.xlabel('Year')\n",
    "        \n",
    "        if plot_type == 'books, authors, publishers':\n",
    "            plt.ylabel('Count')\n",
    "            if 'number of books' in multiplot_values:\n",
    "                books_by_year = df_slice['year'].value_counts().sort_index()\n",
    "                plt.plot(books_by_year.index, books_by_year.values, label='number of books')\n",
    "            \n",
    "            if 'different authors' in multiplot_values:\n",
    "                authors_by_year = df_slice.groupby('year')['first_author'].count()\n",
    "                plt.plot(authors_by_year.index, authors_by_year.values, label='number of authors')\n",
    "                  \n",
    "            if 'different publishers' in multiplot_values:\n",
    "                publisher_by_year = df_slice.groupby('year')['publisher'].count()\n",
    "                plt.plot(publisher_by_year.index, publisher_by_year.values, label='number of publishers')\n",
    "                     \n",
    "        elif plot_type == 'average number of pages':\n",
    "            plt.ylabel('Number of Pages')\n",
    "            pages_by_year = df_slice.groupby('year')['pages']\n",
    "            mean = pages_by_year.mean()\n",
    "            median = pages_by_year.median()\n",
    "            plt.plot(mean.index, mean.values, label='mean')\n",
    "            plt.plot(mean.index, median.values, label='median')\n",
    "            plt.legend()\n",
    "                     \n",
    "        elif plot_type == 'average msrp':\n",
    "            plt.ylabel('MSRP in US Dollars')\n",
    "            msrp_by_year = df_slice.groupby('year')['msrp']\n",
    "            mean = msrp_by_year.mean()\n",
    "            median = msrp_by_year.median()\n",
    "            plt.plot(mean.index, mean.values, label='mean')\n",
    "            plt.plot(mean.index, median.values, label='median')\n",
    "            plt.legend()\n",
    "            \n",
    "        plt.legend()\n",
    "                    \n",
    "line_plot = widgets.interactive_output(create_line_by_year, {'plot_type': line_dropdown,\n",
    "                                                             'min_max_years': year_slider,\n",
    "                                                             'multiplot_values': lines_select})\n",
    "line_display = widgets.HBox([\n",
    "    line_plot,\n",
    "    widgets.VBox(\n",
    "        [controls_label, line_dropdown, lines_select, year_slider],\n",
    "        layout=widgets.Layout(padding='30px'))\n",
    "])\n",
    "\n",
    "#line_display"
   ]
  },
  {
   "cell_type": "code",
   "execution_count": 8,
   "id": "3ce592ba",
   "metadata": {},
   "outputs": [],
   "source": [
    "#books_by_year = df['year'].value_counts().sort_index()\n",
    "#plt.plot(books_by_year.index, books_by_year.values)\n",
    "#plt.plot(books_by_year.index, books_by_year.values)\n",
    "#plt.show()"
   ]
  },
  {
   "cell_type": "code",
   "execution_count": 9,
   "id": "0a00cc97",
   "metadata": {},
   "outputs": [
    {
     "data": {
      "text/plain": [
       "array([11,  9,  9,  9,  8,  8,  8,  8,  7,  7], dtype=int64)"
      ]
     },
     "execution_count": 9,
     "metadata": {},
     "output_type": "execute_result"
    }
   ],
   "source": [
    "#df['first_author'].value_counts().head(10).index\n",
    "#df['illustrator'].value_counts().head(10)\n",
    "#df['publisher'].value_counts().head(10)\n",
    "#df['location'].value_counts().head(10)\n",
    "#df.sort_values('msrp', ascending=False).head(10)['msrp']\n",
    "df['year'].value_counts().head(10).values"
   ]
  },
  {
   "cell_type": "code",
   "execution_count": 27,
   "id": "a0a1965b",
   "metadata": {},
   "outputs": [],
   "source": [
    "# Create the Top Ten graphs\n",
    "\n",
    "top_options = ['authors', 'illustrators', 'publishers', 'locations', 'book prices', 'highest years',\n",
    "               'longest books', 'shortest books', 'expensive books', 'cheapest books']\n",
    "top_ten_radio = widgets.RadioButtons(options=top_options, value='authors')\n",
    "\n",
    "def get_common_values(col_name, count=10, reverse=False):\n",
    "    if not reverse:\n",
    "        values = df[col_name].value_counts().head(count).values\n",
    "        labels = df[col_name].value_counts().head(count).index  \n",
    "    else:\n",
    "        values = df[col_name].value_counts().tail(count).values\n",
    "        labels = df[col_name].value_counts().tail(count).index  \n",
    "    \n",
    "    return values, labels\n",
    "\n",
    "def get_extreme_values(col_name, count=10, ascending=True):\n",
    "    values = df.sort_values(col_name, ascending=ascending).head(count)[col_name].values\n",
    "    labels = df.sort_values(col_name, ascending=ascending).head(count)['title'].values\n",
    "    \n",
    "    return values, labels\n",
    "\n",
    "def create_top_plots(plot_type):\n",
    "    with plt.style.context('ggplot'):\n",
    "        fig = plt.figure(figsize=(9,6))\n",
    "\n",
    "        # Default labels\n",
    "        x_label = ''\n",
    "        y_label = 'Number of books'\n",
    "        \n",
    "        if plot_type == 'authors':\n",
    "            values, labels = get_common_values('first_author')\n",
    "        elif plot_type == 'illustrators':\n",
    "            values, labels = get_common_values('illustrator')\n",
    "        elif plot_type == 'publishers':\n",
    "            values, labels = get_common_values('publisher')\n",
    "        elif plot_type == 'locations':\n",
    "            values, labels = get_common_values('location')\n",
    "        elif plot_type == 'book prices':\n",
    "            values, labels = get_common_values('msrp')\n",
    "            labels = ['$ ' + str(x) for x in labels]\n",
    "        elif plot_type == 'longest books':\n",
    "            values, labels = get_extreme_values('pages', ascending=False)\n",
    "            y_label = 'Number of pages'\n",
    "        elif plot_type == 'shortest books':\n",
    "            values, labels = get_extreme_values('pages')\n",
    "            y_label = 'Number of pages'\n",
    "        elif plot_type == 'highest years':\n",
    "            values, labels = get_common_values('year')\n",
    "            labels = [str(x.year) for x in labels]\n",
    "        elif plot_type == 'expensive books':\n",
    "            values, labels = get_extreme_values('msrp', ascending=False)\n",
    "            y_label = 'Cost (US Dollars)'\n",
    "        elif plot_type == 'cheapest books':\n",
    "            values, labels = get_extreme_values('msrp')\n",
    "            y_label = 'Cost (US Dollars)'\n",
    "        \n",
    "        plt.xticks(rotation = 90)\n",
    "        plt.bar(labels, values)\n",
    "        plt.title('Top Ten {}'.format((plot_type.title())))\n",
    "        plt.xlabel(x_label)\n",
    "        plt.ylabel(y_label)\n",
    "            \n",
    "            \n",
    "top_ten_plot = widgets.interactive_output(create_top_plots, {'plot_type': top_ten_radio})\n",
    "top_ten_display = widgets.HBox([\n",
    "    top_ten_plot,\n",
    "    widgets.VBox(\n",
    "        [controls_label, top_ten_radio],\n",
    "        layout=widgets.Layout(padding='30px'))\n",
    "])\n",
    "\n",
    "#top_ten_display"
   ]
  },
  {
   "cell_type": "code",
   "execution_count": 28,
   "id": "a5510696",
   "metadata": {},
   "outputs": [],
   "source": [
    "#values, labels = get_common_values('msrp')\n",
    "#labels"
   ]
  },
  {
   "cell_type": "markdown",
   "id": "bb59f1ba",
   "metadata": {},
   "source": [
    "### Bible Storybooks Dashboard"
   ]
  },
  {
   "cell_type": "markdown",
   "id": "3f8dc5bf",
   "metadata": {},
   "source": [
    "The dashboard below provides three different ways of interacting with the data:\n",
    "* Simple Scatters\n",
    "* Trends by Year\n",
    "* Top Values\n",
    "\n",
    "The \"Simple Scatters\" tab lets the user test how the publication year, number of pages, and MSRP (manufacturer suggested retail price) may correlate with each other.  The controls allow the user to pick which value to use for the x and y scales.\n",
    "\n",
    "\"Trends by Year\" allows the user to select which values to plot against the year.  The number of books, authors, and publishers can be plotted together, while average number of pages or MSRP is plotted separately.  For these latter series, the mean and median averages are plotted.  Some of the data is missing, so the graphs are incomplete.\n",
    "\n",
    "Finally, \"Top Values\" explores some of the most extreme or common values.  For instance, some of the options possible are viewing the most commonly represented authors, the most expensive books, or the years with the most books published.  The least common prices and books with the fewest years published are not represented, as these would all be single values.  Similarly, least expensive"
   ]
  },
  {
   "cell_type": "code",
   "execution_count": 29,
   "id": "01c81cc8",
   "metadata": {},
   "outputs": [
    {
     "data": {
      "application/vnd.jupyter.widget-view+json": {
       "model_id": "584e4addfff54bd88d0faf785a7c94c2",
       "version_major": 2,
       "version_minor": 0
      },
      "text/plain": [
       "Tab(children=(HBox(children=(Output(outputs=({'output_type': 'display_data', 'data': {'text/plain': '<Figure s…"
      ]
     },
     "metadata": {},
     "output_type": "display_data"
    }
   ],
   "source": [
    "tab_contents = {\n",
    "    'Simple Scatters': scatter_display,\n",
    "    'Trends by Year': line_display,\n",
    "    'Top Values': top_ten_display\n",
    "}\n",
    "\n",
    "tab = widgets.Tab()\n",
    "tab.children = list(tab_contents.values())\n",
    "for i in range(len(tab.children)):\n",
    "    tab.set_title(i, list(tab_contents.keys())[i])\n",
    "tab"
   ]
  },
  {
   "cell_type": "markdown",
   "id": "755fb689",
   "metadata": {},
   "source": [
    "### Related Datasets"
   ]
  },
  {
   "cell_type": "markdown",
   "id": "f854d97b",
   "metadata": {},
   "source": [
    "For further work, a map visualization of publisher locations might be useful.  For that, I would need longitude and latitude data for the cities.  (I would probably limit it to cities in the United States, since most of the populated data is in the US.)\n",
    "\n",
    "For that, I could use the SimpleMaps database, available at https://simplemaps.com/data/us-cities. "
   ]
  },
  {
   "cell_type": "code",
   "execution_count": null,
   "id": "e6707d7a",
   "metadata": {},
   "outputs": [],
   "source": []
  }
 ],
 "metadata": {
  "kernelspec": {
   "display_name": "Python 3 (ipykernel)",
   "language": "python",
   "name": "python3"
  },
  "language_info": {
   "codemirror_mode": {
    "name": "ipython",
    "version": 3
   },
   "file_extension": ".py",
   "mimetype": "text/x-python",
   "name": "python",
   "nbconvert_exporter": "python",
   "pygments_lexer": "ipython3",
   "version": "3.9.7"
  }
 },
 "nbformat": 4,
 "nbformat_minor": 5
}
