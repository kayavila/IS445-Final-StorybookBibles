{
 "cells": [
  {
   "cell_type": "markdown",
   "id": "fd340cf4",
   "metadata": {},
   "source": [
    "### IS445 Final Project, Part 2\n",
    "Kay Avila\n",
    "\n",
    "References:\n",
    "* https://coderzcolumn.com/tutorials/data-science/interactive-charts-using-matplotlib-and-ipywidgets\n",
    "* https://stackoverflow.com/questions/7908636/how-to-add-hovering-annotations-in-matplotlib\n",
    "* https://stackoverflow.com/questions/36104500/pandas-filtering-and-comparing-dates"
   ]
  },
  {
   "cell_type": "code",
   "execution_count": 1,
   "id": "0eff3084",
   "metadata": {},
   "outputs": [],
   "source": [
    "import numpy as np\n",
    "import pandas as pd\n",
    "import ipywidgets as widgets\n",
    "import matplotlib.pyplot as plt\n",
    "\n",
    "# Requires ipympl to be installed in the conda environment\n",
    "#%matplotlib widget   "
   ]
  },
  {
   "cell_type": "code",
   "execution_count": 2,
   "id": "7d79a03e",
   "metadata": {},
   "outputs": [],
   "source": [
    "df = pd.read_csv('Storybook-Bibles.csv',  # Input file needs to be in the local directory  \n",
    "                 usecols=['isbn', 'title', 'first_author', 'illustrator', 'other_authors', 'other_illustrators',\n",
    "                          'publisher', 'location', 'year', 'pages', 'idb_msrp']\n",
    "                )\n",
    "df.rename(columns={'idb_msrp': 'msrp'}, inplace=True)\n",
    "\n",
    "# Set $0.00 MSRP to NaN\n",
    "df.loc[df['msrp'] <= 0, 'msrp'] = None\n",
    "\n",
    "# Set dates below 1900 and above 2020 as invalid, then convert to a pandas time\n",
    "df[(df['year'] > 2020) | (df['year'] < 1900)] = None\n",
    "df['year'] = pd.to_datetime(df['year'], format='%Y')"
   ]
  },
  {
   "cell_type": "code",
   "execution_count": 3,
   "id": "390b90fc",
   "metadata": {},
   "outputs": [],
   "source": [
    "# Create the simple 2D scatter plots\n",
    "data_series = ['year', 'pages', 'msrp']\n",
    "\n",
    "x_dropdown = widgets.Dropdown(options=data_series, description='x values')\n",
    "y_dropdown = widgets.Dropdown(options=data_series, value='pages', description='y values')\n",
    "controls_label = widgets.Label(value='Controls')\n",
    "\n",
    "def create_scatter(x_dataset, y_dataset):\n",
    "    with plt.style.context('ggplot'):\n",
    "        fig = plt.figure(figsize=(9,6))\n",
    "\n",
    "        plt.xlabel(x_dataset.capitalize())\n",
    "        plt.ylabel(y_dataset.capitalize())\n",
    "\n",
    "        plt.scatter(x = df[x_dataset], y = df[y_dataset])\n",
    "        plt.title(\"{} vs {}\".format(x_dataset.capitalize(), y_dataset.capitalize()))\n",
    "    \n",
    "    \n",
    "scatter_plot = widgets.interactive_output(create_scatter, {'x_dataset': x_dropdown, 'y_dataset': y_dropdown})\n",
    "scatter_display = widgets.HBox([\n",
    "    scatter_plot,\n",
    "    widgets.VBox([controls_label, x_dropdown, y_dropdown],\n",
    "                layout=widgets.Layout(padding='30px'))\n",
    "])"
   ]
  },
  {
   "cell_type": "code",
   "execution_count": 4,
   "id": "3aa0d238",
   "metadata": {},
   "outputs": [],
   "source": [
    "#test = df.groupby('year')['msrp']\n",
    "#median = test.median()\n",
    "#median.values"
   ]
  },
  {
   "cell_type": "code",
   "execution_count": 5,
   "id": "0a344118",
   "metadata": {},
   "outputs": [],
   "source": [
    "#widgets.IntRangeSlider(\n",
    "#    value=[5, 7],\n",
    "#    min=0,\n",
    "#    max=10,\n",
    "#    step=1,\n",
    "#    description='Test:',\n",
    "#    disabled=False,\n",
    "    #continuous_update=False,\n",
    "    #orientation='horizontal',\n",
    "    #readout=True,\n",
    "    #readout_format='d',\n",
    "#)"
   ]
  },
  {
   "cell_type": "code",
   "execution_count": 6,
   "id": "19628554",
   "metadata": {},
   "outputs": [],
   "source": [
    "#df['year'].max()\n",
    "#print(df['year'].sort_values().head())\n",
    "#(df['year'].sort_values() >= pd.Timestamp(1960, 1, 1)) & (df['year'].sort_values() <= pd.Timestamp(1972, 1, 1))"
   ]
  },
  {
   "cell_type": "code",
   "execution_count": 7,
   "id": "f52a0b89",
   "metadata": {},
   "outputs": [],
   "source": [
    "# Create the graphs handled by value counts by year\n",
    "min_year = df['year'].min().year\n",
    "max_year = df['year'].max().year\n",
    "\n",
    "options = ['books, authors, publishers', 'average number of pages', 'average msrp']\n",
    "line_dropdown = widgets.Dropdown(options=options, description='subject:', value='books, authors, publishers')\n",
    "year_slider = widgets.IntRangeSlider(value=[min_year, max_year], min=min_year, max=max_year, step=1, continuous_update=False,\n",
    "                                     description='years:')\n",
    "lines_select = widgets.SelectMultiple(options=['number of books', 'different authors', 'different publishers'],\n",
    "                                      value=['number of books'],\n",
    "                                      description='plot values:')\n",
    "\n",
    "def create_line_by_year(plot_type, min_max_years=(min_year, max_year), multiplot_values=[]):\n",
    "    start_year, end_year = min_max_years[0], min_max_years[1]\n",
    "    df_slice = df[(df['year'] >= pd.Timestamp(start_year, 1, 1)) & (df['year'] <= pd.Timestamp(end_year, 1, 1))]\n",
    "    \n",
    "    # Only show the lines_select if type is 'counts by year'\n",
    "    if plot_type == 'books, authors, publishers':\n",
    "        lines_select.layout.display = 'block'\n",
    "    else:\n",
    "        lines_select.layout.display = 'none'\n",
    "    \n",
    "    with plt.style.context('ggplot'):\n",
    "        fig = plt.figure(figsize=(9,6))\n",
    "        \n",
    "        if plot_type == 'books, authors, publishers':\n",
    "            if 'number of books' in multiplot_values:\n",
    "                books_by_year = df_slice['year'].value_counts().sort_index()\n",
    "                plt.plot(books_by_year.index, books_by_year.values, label='number of books')\n",
    "            \n",
    "            if 'different authors' in multiplot_values:\n",
    "                authors_by_year = df_slice.groupby('year')['first_author'].count()\n",
    "                plt.plot(authors_by_year.index, authors_by_year.values, label='number of authors')\n",
    "                  \n",
    "            if 'different publishers' in multiplot_values:\n",
    "                publisher_by_year = df_slice.groupby('year')['publisher'].count()\n",
    "                plt.plot(publisher_by_year.index, publisher_by_year.values, label='number of publishers')\n",
    "                     \n",
    "        elif plot_type == 'avg number of pages':\n",
    "            pages_by_year = df_slice.groupby('year')['pages']\n",
    "            mean = pages_by_year.mean()\n",
    "            median = pages_by_year.median()\n",
    "            plt.plot(mean.index, mean.values, label='mean')\n",
    "            plt.plot(mean.index, median.values, label='median')\n",
    "            plt.legend()\n",
    "                     \n",
    "        elif plot_type == 'avg msrp':\n",
    "            msrp_by_year = df_slice.groupby('year')['msrp']\n",
    "            mean = msrp_by_year.mean()\n",
    "            median = msrp_by_year.median()\n",
    "            plt.plot(mean.index, mean.values, label='mean')\n",
    "            plt.plot(mean.index, median.values, label='median')\n",
    "            plt.legend()\n",
    "            \n",
    "        plt.legend()\n",
    "                    \n",
    "line_plot = widgets.interactive_output(create_line_by_year, {'plot_type': line_dropdown,\n",
    "                                                             'min_max_years': year_slider,\n",
    "                                                             'multiplot_values': lines_select})\n",
    "line_display = widgets.HBox([\n",
    "    line_plot,\n",
    "    widgets.VBox(\n",
    "        [controls_label, line_dropdown, lines_select, year_slider],\n",
    "        layout=widgets.Layout(padding='30px'))\n",
    "])\n",
    "\n",
    "#line_display"
   ]
  },
  {
   "cell_type": "code",
   "execution_count": 8,
   "id": "3ce592ba",
   "metadata": {},
   "outputs": [],
   "source": [
    "#books_by_year = df['year'].value_counts().sort_index()\n",
    "#plt.plot(books_by_year.index, books_by_year.values)\n",
    "#plt.plot(books_by_year.index, books_by_year.values)\n",
    "#plt.show()"
   ]
  },
  {
   "cell_type": "code",
   "execution_count": 19,
   "id": "b81a6fcd",
   "metadata": {},
   "outputs": [
    {
     "data": {
      "text/plain": [
       "New York            16\n",
       "Nashville, TN       15\n",
       "Grand Rapids, MI    12\n",
       "Wheaton, IL          6\n",
       "Chicago              5\n",
       "Minneapolis, MN      4\n",
       "Elgin, IL            4\n",
       "Sisters, OR          4\n",
       "Colorado Springs     4\n",
       "St. Louis, MO        3\n",
       "Name: location, dtype: int64"
      ]
     },
     "execution_count": 19,
     "metadata": {},
     "output_type": "execute_result"
    }
   ],
   "source": [
    "# Create the Top Ten graphs\n",
    "df['first_author'].value_counts().head(10)\n",
    "df['illustrator'].value_counts().head(10)\n",
    "df['publisher'].value_counts().head(10)\n",
    "df['location'].value_counts().head(10)"
   ]
  },
  {
   "cell_type": "code",
   "execution_count": 9,
   "id": "01c81cc8",
   "metadata": {},
   "outputs": [
    {
     "data": {
      "application/vnd.jupyter.widget-view+json": {
       "model_id": "c5c830fad96d495aab4552c2c99df1b8",
       "version_major": 2,
       "version_minor": 0
      },
      "text/plain": [
       "Tab(children=(HBox(children=(Output(), VBox(children=(Label(value='Controls'), Dropdown(description='x values'…"
      ]
     },
     "metadata": {},
     "output_type": "display_data"
    }
   ],
   "source": [
    "tab_contents = {\n",
    "    'Simple Scatters': scatter_display,\n",
    "    'Trend by Year Lines': line_display\n",
    "}\n",
    "\n",
    "tab = widgets.Tab()\n",
    "tab.children = list(tab_contents.values())\n",
    "for i in range(len(tab.children)):\n",
    "    tab.set_title(i, list(tab_contents.keys())[i])\n",
    "tab"
   ]
  },
  {
   "cell_type": "code",
   "execution_count": 10,
   "id": "30e03499",
   "metadata": {},
   "outputs": [],
   "source": [
    "# TODO - Add min/max year on each one"
   ]
  }
 ],
 "metadata": {
  "kernelspec": {
   "display_name": "Python 3 (ipykernel)",
   "language": "python",
   "name": "python3"
  },
  "language_info": {
   "codemirror_mode": {
    "name": "ipython",
    "version": 3
   },
   "file_extension": ".py",
   "mimetype": "text/x-python",
   "name": "python",
   "nbconvert_exporter": "python",
   "pygments_lexer": "ipython3",
   "version": "3.9.7"
  }
 },
 "nbformat": 4,
 "nbformat_minor": 5
}
